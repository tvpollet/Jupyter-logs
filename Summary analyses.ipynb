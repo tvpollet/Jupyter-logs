{
 "cells": [
  {
   "cell_type": "markdown",
   "metadata": {},
   "source": [
    "# This is a summary document."
   ]
  },
  {
   "cell_type": "code",
   "execution_count": 2,
   "metadata": {
    "collapsed": false
   },
   "outputs": [
    {
     "ename": "ERROR",
     "evalue": "Error in install.packages(brms): object 'brms' not found\n",
     "output_type": "error",
     "traceback": [
      "Error in install.packages(brms): object 'brms' not found\nTraceback:\n",
      "1. install.packages(brms)"
     ]
    }
   ],
   "source": [
    "install.packages(brms)"
   ]
  },
  {
   "cell_type": "code",
   "execution_count": 8,
   "metadata": {
    "collapsed": false
   },
   "outputs": [
    {
     "name": "stderr",
     "output_type": "stream",
     "text": [
      "also installing the dependencies ‘TH.data’, ‘multcomp’, ‘mvtnorm’, ‘modeltools’, ‘strucchange’, ‘coin’, ‘sandwich’\n",
      "\n",
      "Warning message in install.packages(c(\"party\"), repos = \"http://cran.us.r-project.org\", :\n",
      "“installation of package ‘mvtnorm’ had non-zero exit status”Warning message in install.packages(c(\"party\"), repos = \"http://cran.us.r-project.org\", :\n",
      "“installation of package ‘multcomp’ had non-zero exit status”Warning message in install.packages(c(\"party\"), repos = \"http://cran.us.r-project.org\", :\n",
      "“installation of package ‘coin’ had non-zero exit status”Warning message in install.packages(c(\"party\"), repos = \"http://cran.us.r-project.org\", :\n",
      "“installation of package ‘party’ had non-zero exit status”Updating HTML index of packages in '.Library'\n",
      "Making 'packages.html' ... done\n"
     ]
    }
   ],
   "source": [
    "install.packages(c('party'), repos='http://cran.us.r-project.org', '/Users/thomas/anaconda/lib/R/library')"
   ]
  },
  {
   "cell_type": "code",
   "execution_count": 6,
   "metadata": {
    "collapsed": false
   },
   "outputs": [
    {
     "name": "stderr",
     "output_type": "stream",
     "text": [
      "Loading required package: brms\n",
      "Warning message in library(package, lib.loc = lib.loc, character.only = TRUE, logical.return = TRUE, :\n",
      "“there is no package called ‘brms’”"
     ]
    }
   ],
   "source": [
    "require(party)\n",
    "Dataset <-\n",
    "  read.table(\n",
    "    \"~/Documents/Rstudio/Mathijs-1000-12/Mathijs.csv\",\n",
    "    header = TRUE,\n",
    "    sep = \",\",\n",
    "    na.strings = \"NA\",\n",
    "    dec = \".\",\n",
    "    strip.white = TRUE\n",
    "  )"
   ]
  },
  {
   "cell_type": "code",
   "execution_count": null,
   "metadata": {
    "collapsed": true
   },
   "outputs": [],
   "source": []
  }
 ],
 "metadata": {
  "kernelspec": {
   "display_name": "R",
   "language": "R",
   "name": "ir"
  },
  "language_info": {
   "codemirror_mode": "r",
   "file_extension": ".r",
   "mimetype": "text/x-r-source",
   "name": "R",
   "pygments_lexer": "r",
   "version": "3.3.2"
  }
 },
 "nbformat": 4,
 "nbformat_minor": 2
}
